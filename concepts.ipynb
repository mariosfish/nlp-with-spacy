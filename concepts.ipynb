{
 "cells": [
  {
   "cell_type": "code",
   "execution_count": 1,
   "metadata": {},
   "outputs": [],
   "source": [
    "import spacy\n",
    "from scipy import spatial\n",
    "from collections import Counter"
   ]
  },
  {
   "cell_type": "code",
   "execution_count": 2,
   "metadata": {},
   "outputs": [],
   "source": [
    "# Install the medium or large model package so we can have word vectors\n",
    "# !python -m spacy download en_core_web_md"
   ]
  },
  {
   "cell_type": "code",
   "execution_count": 3,
   "metadata": {},
   "outputs": [],
   "source": [
    "# Load the medium model\n",
    "nlp = spacy.load(\"en_core_web_md\")"
   ]
  },
  {
   "cell_type": "code",
   "execution_count": 4,
   "metadata": {},
   "outputs": [],
   "source": [
    "# Name of the file to run nlp on\n",
    "filename_input = './files/Infrastructure.ttl'\n",
    "\n",
    "with open(filename_input, encoding='utf8') as infile:\n",
    "    text = infile.read()"
   ]
  },
  {
   "cell_type": "markdown",
   "metadata": {},
   "source": [
    "**Goal:** To find, using cosine similarity, words in the nlp vocabulary that are semantically similar to the 10 most common words in a .ttl file."
   ]
  },
  {
   "cell_type": "code",
   "execution_count": 5,
   "metadata": {},
   "outputs": [],
   "source": [
    "# Filter the lines tha start with '#','@','.' and save them in a list\n",
    "lines = []\n",
    "for line in text.splitlines():\n",
    "    if line.startswith(('#', '@', '.')):\n",
    "        continue\n",
    "    lines.append(line)"
   ]
  },
  {
   "cell_type": "code",
   "execution_count": 6,
   "metadata": {},
   "outputs": [],
   "source": [
    "# Words that are reserved by the SKOS vocabulary\n",
    "skos = ['skos', 'Class', 'example', 'dataElementLabel', 'acronym', 'broader', 'narrower', 'vaem', 'prefix', 'dcterms', 'owl',\n",
    "        'termSubject', 'prefLabel', 'bibliographicCitation', 'imports', 'versionInfo', 'string', 'rdfs', 'label',\n",
    "        'subPropertyOf', 'subClassOf', 'anySimpleType', 'code', 'definition', 'dtype', 'topConceptOf',\n",
    "        'hasTopConcept', 'rdf', 'type', 'unionOf', 'intersectionOf', 'historyNote', 'xsd']"
   ]
  },
  {
   "cell_type": "code",
   "execution_count": 7,
   "metadata": {
    "scrolled": false
   },
   "outputs": [],
   "source": [
    "'''Fiter all the words (tokens) in each line. If any token is alphabetical and is not a stop word or in the SKOS \n",
    "reserved words, we keep it. Else discard it.'''\n",
    "\n",
    "cnt = Counter()\n",
    "for line in lines:\n",
    "    doc = nlp(line)\n",
    "    for token in doc:\n",
    "        if token.is_alpha and not token.is_stop and not token.is_oov and not token.text in skos:\n",
    "            cnt[token.text] += 1"
   ]
  },
  {
   "cell_type": "markdown",
   "metadata": {},
   "source": [
    "**Note**: Maybe is a better choice to save in the counter the .lemma_ of the token. Don't know..."
   ]
  },
  {
   "cell_type": "code",
   "execution_count": 8,
   "metadata": {
    "scrolled": false
   },
   "outputs": [
    {
     "data": {
      "text/plain": [
       "[('Systems', 123),\n",
       " ('Infrastructure', 45),\n",
       " ('Airspace', 43),\n",
       " ('Atmosphere', 38),\n",
       " ('Transportation', 32),\n",
       " ('Air', 19),\n",
       " ('Activity', 13),\n",
       " ('System', 13),\n",
       " ('infrastructure', 13),\n",
       " ('Facilities', 12)]"
      ]
     },
     "execution_count": 8,
     "metadata": {},
     "output_type": "execute_result"
    }
   ],
   "source": [
    "# Check the 10 most common elements in the counter\n",
    "cnt.most_common(10)"
   ]
  },
  {
   "cell_type": "code",
   "execution_count": 9,
   "metadata": {},
   "outputs": [],
   "source": [
    "# Extract the 10 most common words into a list\n",
    "most_common_words = []\n",
    "for elem in cnt.most_common(10):\n",
    "    most_common_words.append(elem[0])"
   ]
  },
  {
   "cell_type": "code",
   "execution_count": 10,
   "metadata": {},
   "outputs": [],
   "source": [
    "def cosine_similarity(word1, word2):\n",
    "    '''Calculates the cosine similarity of two word vectors'''\n",
    "    w1 = nlp.vocab[word1].vector\n",
    "    w2 = nlp.vocab[word2].vector\n",
    "    return 1-spatial.distance.cosine(w1, w2)"
   ]
  },
  {
   "cell_type": "code",
   "execution_count": 11,
   "metadata": {},
   "outputs": [],
   "source": [
    "# Finds words in the nlp.vocabulary that have the same cosine similarity with each word in the most common word.\n",
    "# for testing purposes 'common' is Airspace\n",
    "computed_similarities = []\n",
    "common = 'Airspace'\n",
    "\n",
    "for word in nlp.vocab:\n",
    "    if word.is_alpha and word.is_lower and word.has_vector:\n",
    "        similarity = cosine_similarity(word.text, common)\n",
    "        computed_similarities.append((word.text, similarity))"
   ]
  },
  {
   "cell_type": "code",
   "execution_count": 12,
   "metadata": {},
   "outputs": [
    {
     "name": "stdout",
     "output_type": "stream",
     "text": [
      "['airframes', 'airworthy', 'turboprop', 'monoplane', 'airfield', 'airspace', 'refuelling', 'airframe', 'aicraft', 'airborne']\n"
     ]
    }
   ],
   "source": [
    "# sort the list by similarity descending\n",
    "computed_similarities = sorted(\n",
    "    computed_similarities, key=lambda item: -item[1])\n",
    "\n",
    "# print the first 10 words that have the same similarity\n",
    "print([t[0] for t in computed_similarities[:10]])"
   ]
  }
 ],
 "metadata": {
  "kernelspec": {
   "display_name": "Python 3",
   "language": "python",
   "name": "python3"
  },
  "language_info": {
   "codemirror_mode": {
    "name": "ipython",
    "version": 3
   },
   "file_extension": ".py",
   "mimetype": "text/x-python",
   "name": "python",
   "nbconvert_exporter": "python",
   "pygments_lexer": "ipython3",
   "version": "3.7.5"
  }
 },
 "nbformat": 4,
 "nbformat_minor": 2
}
